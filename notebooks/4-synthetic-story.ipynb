{
 "cells": [
  {
   "cell_type": "code",
   "execution_count": 1,
   "id": "536f1ca5",
   "metadata": {},
   "outputs": [],
   "source": [
    "%load_ext lab_black"
   ]
  },
  {
   "cell_type": "code",
   "execution_count": 2,
   "id": "6d68b438",
   "metadata": {},
   "outputs": [],
   "source": [
    "import numpy as np\n",
    "import pandas as pd\n",
    "\n",
    "import matplotlib.pyplot as plt\n",
    "\n",
    "from scipy.stats.stats import pearsonr\n",
    "from sklearn.pipeline import make_pipeline\n",
    "from sklearn.preprocessing import StandardScaler\n",
    "from sklearn.linear_model import (\n",
    "    LinearRegression,\n",
    "    LassoCV,\n",
    ")\n",
    "from sklearn.metrics import mean_squared_error\n",
    "from sklearn.model_selection import cross_validate\n",
    "\n",
    "from pprint import pprint"
   ]
  },
  {
   "cell_type": "code",
   "execution_count": 3,
   "id": "3a820dad",
   "metadata": {},
   "outputs": [],
   "source": [
    "def cross_validate_report(model, X, y, show=True, return_coef=False):\n",
    "    scoring = [\"neg_mean_squared_error\", \"neg_root_mean_squared_error\"]\n",
    "\n",
    "    result = cross_validate(\n",
    "        model, X, y, scoring=scoring, return_train_score=True, return_estimator=True\n",
    "    )\n",
    "\n",
    "    coef_estimates = [list(estimator.coef_) for estimator in result[\"estimator\"]]\n",
    "\n",
    "    cv_train_mse = -result[\"train_neg_mean_squared_error\"].mean()\n",
    "    cv_train_rmse = -result[\"train_neg_root_mean_squared_error\"].mean()\n",
    "\n",
    "    cv_test_mse = -result[\"test_neg_mean_squared_error\"].mean()\n",
    "    cv_test_rmse = -result[\"test_neg_root_mean_squared_error\"].mean()\n",
    "\n",
    "    if show:\n",
    "        print(\"Train Metrics:\")\n",
    "        print(f\"CV Train MSE: {cv_train_mse}\")\n",
    "        print(f\"CV Train RSME: {cv_train_rmse}\")\n",
    "        print()\n",
    "        print(\"Test Metrics\")\n",
    "        print(f\"CV Test MSE: {cv_test_mse}\")\n",
    "        print(f\"CV Test MSE: {cv_test_rmse}\")\n",
    "        print()\n",
    "        print(f\"Coefficient Estimates Across Folds: \")\n",
    "        pprint(coef_estimates)\n",
    "\n",
    "    if return_coef:\n",
    "        return coef_estimates"
   ]
  },
  {
   "cell_type": "code",
   "execution_count": 4,
   "id": "dbd7994b",
   "metadata": {},
   "outputs": [],
   "source": [
    "SEED = 1232\n",
    "N_OBS = 1000"
   ]
  },
  {
   "cell_type": "code",
   "execution_count": 5,
   "id": "d7970921",
   "metadata": {},
   "outputs": [],
   "source": [
    "np.random.seed(SEED)"
   ]
  },
  {
   "cell_type": "code",
   "execution_count": 6,
   "id": "2558ba38",
   "metadata": {},
   "outputs": [],
   "source": [
    "x_1 = np.random.uniform(0, 10, N_OBS)\n",
    "e = np.random.normal(0, 1, N_OBS)\n",
    "y = 3 + 2 * x_1 + e"
   ]
  },
  {
   "cell_type": "code",
   "execution_count": 7,
   "id": "d2b56789",
   "metadata": {},
   "outputs": [
    {
     "name": "stdout",
     "output_type": "stream",
     "text": [
      "Train Metrics:\n",
      "CV Train MSE: 1.0792438158316893\n",
      "CV Train RSME: 1.0386981873822758\n",
      "\n",
      "Test Metrics\n",
      "CV Test MSE: 1.082097929792948\n",
      "CV Test MSE: 1.037556273372198\n",
      "\n",
      "Coefficient Estimates Across Folds: \n",
      "[[1.9941598842341444],\n",
      " [2.003269153324389],\n",
      " [1.9952964817410503],\n",
      " [1.9894677458455363],\n",
      " [1.9885074228378194]]\n"
     ]
    }
   ],
   "source": [
    "X_1 = x_1.reshape(-1, 1)\n",
    "\n",
    "cross_validate_report(LinearRegression(), X_1, y)"
   ]
  },
  {
   "cell_type": "code",
   "execution_count": 8,
   "id": "351eafb6",
   "metadata": {},
   "outputs": [],
   "source": [
    "g = np.random.normal(0, 0.1, N_OBS)\n",
    "x_2 = -x_1 + g"
   ]
  },
  {
   "cell_type": "code",
   "execution_count": 9,
   "id": "8eda14ea",
   "metadata": {},
   "outputs": [
    {
     "name": "stdout",
     "output_type": "stream",
     "text": [
      "-0.9994011519880747\n"
     ]
    }
   ],
   "source": [
    "r, _ = pearsonr(x_1, x_2)\n",
    "print(r)"
   ]
  },
  {
   "cell_type": "code",
   "execution_count": 10,
   "id": "22df2b1c",
   "metadata": {},
   "outputs": [
    {
     "name": "stdout",
     "output_type": "stream",
     "text": [
      "Train Metrics:\n",
      "CV Train MSE: 1.0792438158316893\n",
      "CV Train RSME: 1.0386981873822758\n",
      "\n",
      "Test Metrics\n",
      "CV Test MSE: 1.082097929792948\n",
      "CV Test MSE: 1.037556273372198\n",
      "\n",
      "Coefficient Estimates Across Folds: \n",
      "[[1.9941598842341444],\n",
      " [2.003269153324389],\n",
      " [1.9952964817410503],\n",
      " [1.9894677458455363],\n",
      " [1.9885074228378194]]\n"
     ]
    }
   ],
   "source": [
    "X_2 = x_2.reshape(-1, 1)\n",
    "\n",
    "cross_validate_report(LinearRegression(), X_1, y)"
   ]
  },
  {
   "cell_type": "code",
   "execution_count": 11,
   "id": "14c4a227",
   "metadata": {},
   "outputs": [
    {
     "name": "stdout",
     "output_type": "stream",
     "text": [
      "Train Metrics:\n",
      "CV Train MSE: 1.0788023801138984\n",
      "CV Train RSME: 1.0384833870357348\n",
      "\n",
      "Test Metrics\n",
      "CV Test MSE: 1.0835298196452652\n",
      "CV Test MSE: 1.0382160432570071\n",
      "\n",
      "Coefficient Estimates Across Folds: \n",
      "[[1.8029027470038652, -0.19109142585953637],\n",
      " [1.6384195458596402, -0.3643687849363034],\n",
      " [1.8564194447233686, -0.1385964284121925],\n",
      " [2.0454448403573444, 0.055878025959504085],\n",
      " [1.8401177092087693, -0.14817814320570755]]\n"
     ]
    }
   ],
   "source": [
    "X = np.concatenate((X_1, X_2), axis=1)\n",
    "cross_validate_report(LinearRegression(), X, y)"
   ]
  },
  {
   "cell_type": "code",
   "execution_count": 12,
   "id": "c9dc4f7b",
   "metadata": {},
   "outputs": [
    {
     "data": {
      "text/plain": [
       "array([0.5       , 0.49183673, 0.48367347, 0.4755102 , 0.46734694,\n",
       "       0.45918367, 0.45102041, 0.44285714, 0.43469388, 0.42653061,\n",
       "       0.41836735, 0.41020408, 0.40204082, 0.39387755, 0.38571429,\n",
       "       0.37755102, 0.36938776, 0.36122449, 0.35306122, 0.34489796,\n",
       "       0.33673469, 0.32857143, 0.32040816, 0.3122449 , 0.30408163,\n",
       "       0.29591837, 0.2877551 , 0.27959184, 0.27142857, 0.26326531,\n",
       "       0.25510204, 0.24693878, 0.23877551, 0.23061224, 0.22244898,\n",
       "       0.21428571, 0.20612245, 0.19795918, 0.18979592, 0.18163265,\n",
       "       0.17346939, 0.16530612, 0.15714286, 0.14897959, 0.14081633,\n",
       "       0.13265306, 0.1244898 , 0.11632653, 0.10816327, 0.1       ])"
      ]
     },
     "execution_count": 12,
     "metadata": {},
     "output_type": "execute_result"
    }
   ],
   "source": [
    "np.linspace(0.5, 0.1)"
   ]
  },
  {
   "cell_type": "code",
   "execution_count": 13,
   "id": "68776f37",
   "metadata": {},
   "outputs": [],
   "source": [
    "data = []\n",
    "\n",
    "for gamma_std in np.linspace(0.1, 0.01):\n",
    "    g = np.random.normal(0, gamma_std, N_OBS)\n",
    "    x_2 = -x_1 + g\n",
    "    X_2 = x_2.reshape(-1, 1)\n",
    "    X = np.concatenate((X_1, X_2), axis=1)\n",
    "\n",
    "    r, _ = pearsonr(x_1, x_2)\n",
    "    coefs_across_folds = cross_validate_report(\n",
    "        LinearRegression(), X, y, show=False, return_coef=True\n",
    "    )\n",
    "\n",
    "    for coefs_fold in coefs_across_folds:\n",
    "        beta_1 = coefs_fold[0]\n",
    "        beta_2 = coefs_fold[1]\n",
    "        data.append(\n",
    "            {\"gamma_std\": gamma_std, \"r\": r, \"beta_1\": beta_1, \"beta_2\": beta_2}\n",
    "        )"
   ]
  },
  {
   "cell_type": "code",
   "execution_count": 14,
   "id": "bdc42dd3",
   "metadata": {},
   "outputs": [],
   "source": [
    "plot_df = pd.DataFrame(data)"
   ]
  },
  {
   "cell_type": "code",
   "execution_count": 15,
   "id": "f1d0bb0e",
   "metadata": {},
   "outputs": [
    {
     "data": {
      "text/html": [
       "<div>\n",
       "<style scoped>\n",
       "    .dataframe tbody tr th:only-of-type {\n",
       "        vertical-align: middle;\n",
       "    }\n",
       "\n",
       "    .dataframe tbody tr th {\n",
       "        vertical-align: top;\n",
       "    }\n",
       "\n",
       "    .dataframe thead th {\n",
       "        text-align: right;\n",
       "    }\n",
       "</style>\n",
       "<table border=\"1\" class=\"dataframe\">\n",
       "  <thead>\n",
       "    <tr style=\"text-align: right;\">\n",
       "      <th></th>\n",
       "      <th>gamma_std</th>\n",
       "      <th>r</th>\n",
       "      <th>beta_1</th>\n",
       "      <th>beta_2</th>\n",
       "    </tr>\n",
       "  </thead>\n",
       "  <tbody>\n",
       "    <tr>\n",
       "      <th>0</th>\n",
       "      <td>0.10</td>\n",
       "      <td>-0.999431</td>\n",
       "      <td>2.059902</td>\n",
       "      <td>0.065818</td>\n",
       "    </tr>\n",
       "    <tr>\n",
       "      <th>1</th>\n",
       "      <td>0.10</td>\n",
       "      <td>-0.999431</td>\n",
       "      <td>2.161380</td>\n",
       "      <td>0.158175</td>\n",
       "    </tr>\n",
       "    <tr>\n",
       "      <th>2</th>\n",
       "      <td>0.10</td>\n",
       "      <td>-0.999431</td>\n",
       "      <td>2.104533</td>\n",
       "      <td>0.109320</td>\n",
       "    </tr>\n",
       "    <tr>\n",
       "      <th>3</th>\n",
       "      <td>0.10</td>\n",
       "      <td>-0.999431</td>\n",
       "      <td>2.486694</td>\n",
       "      <td>0.497663</td>\n",
       "    </tr>\n",
       "    <tr>\n",
       "      <th>4</th>\n",
       "      <td>0.10</td>\n",
       "      <td>-0.999431</td>\n",
       "      <td>2.147180</td>\n",
       "      <td>0.158803</td>\n",
       "    </tr>\n",
       "    <tr>\n",
       "      <th>...</th>\n",
       "      <td>...</td>\n",
       "      <td>...</td>\n",
       "      <td>...</td>\n",
       "      <td>...</td>\n",
       "    </tr>\n",
       "    <tr>\n",
       "      <th>245</th>\n",
       "      <td>0.01</td>\n",
       "      <td>-0.999994</td>\n",
       "      <td>1.147808</td>\n",
       "      <td>-0.846427</td>\n",
       "    </tr>\n",
       "    <tr>\n",
       "      <th>246</th>\n",
       "      <td>0.01</td>\n",
       "      <td>-0.999994</td>\n",
       "      <td>0.846962</td>\n",
       "      <td>-1.156335</td>\n",
       "    </tr>\n",
       "    <tr>\n",
       "      <th>247</th>\n",
       "      <td>0.01</td>\n",
       "      <td>-0.999994</td>\n",
       "      <td>1.189663</td>\n",
       "      <td>-0.805734</td>\n",
       "    </tr>\n",
       "    <tr>\n",
       "      <th>248</th>\n",
       "      <td>0.01</td>\n",
       "      <td>-0.999994</td>\n",
       "      <td>-1.720404</td>\n",
       "      <td>-3.710006</td>\n",
       "    </tr>\n",
       "    <tr>\n",
       "      <th>249</th>\n",
       "      <td>0.01</td>\n",
       "      <td>-0.999994</td>\n",
       "      <td>-1.898438</td>\n",
       "      <td>-3.887122</td>\n",
       "    </tr>\n",
       "  </tbody>\n",
       "</table>\n",
       "<p>250 rows × 4 columns</p>\n",
       "</div>"
      ],
      "text/plain": [
       "     gamma_std         r    beta_1    beta_2\n",
       "0         0.10 -0.999431  2.059902  0.065818\n",
       "1         0.10 -0.999431  2.161380  0.158175\n",
       "2         0.10 -0.999431  2.104533  0.109320\n",
       "3         0.10 -0.999431  2.486694  0.497663\n",
       "4         0.10 -0.999431  2.147180  0.158803\n",
       "..         ...       ...       ...       ...\n",
       "245       0.01 -0.999994  1.147808 -0.846427\n",
       "246       0.01 -0.999994  0.846962 -1.156335\n",
       "247       0.01 -0.999994  1.189663 -0.805734\n",
       "248       0.01 -0.999994 -1.720404 -3.710006\n",
       "249       0.01 -0.999994 -1.898438 -3.887122\n",
       "\n",
       "[250 rows x 4 columns]"
      ]
     },
     "execution_count": 15,
     "metadata": {},
     "output_type": "execute_result"
    }
   ],
   "source": [
    "plot_df"
   ]
  },
  {
   "cell_type": "code",
   "execution_count": 16,
   "id": "f3982938",
   "metadata": {},
   "outputs": [
    {
     "data": {
      "text/plain": [
       "0      0.999431\n",
       "1      0.999431\n",
       "2      0.999431\n",
       "3      0.999431\n",
       "4      0.999431\n",
       "         ...   \n",
       "245    0.999994\n",
       "246    0.999994\n",
       "247    0.999994\n",
       "248    0.999994\n",
       "249    0.999994\n",
       "Name: r, Length: 250, dtype: float64"
      ]
     },
     "execution_count": 16,
     "metadata": {},
     "output_type": "execute_result"
    }
   ],
   "source": [
    "plot_df[\"r\"].abs()"
   ]
  },
  {
   "cell_type": "code",
   "execution_count": 17,
   "id": "c846eced",
   "metadata": {},
   "outputs": [
    {
     "data": {
      "text/plain": [
       "<matplotlib.legend.Legend at 0x7f161faccd90>"
      ]
     },
     "execution_count": 17,
     "metadata": {},
     "output_type": "execute_result"
    },
    {
     "data": {
      "image/png": "[encoded data removed]",
      "text/plain": [
       "<Figure size 1152x432 with 2 Axes>"
      ]
     },
     "metadata": {
      "needs_background": "light"
     },
     "output_type": "display_data"
    }
   ],
   "source": [
    "fig, axes = plt.subplots(nrows=2, ncols=1, figsize=(16, 6))\n",
    "\n",
    "coef_plot = axes[0]\n",
    "corr_plot = axes[1]\n",
    "\n",
    "coef_plot.scatter(plot_df[\"gamma_std\"], plot_df[\"beta_1\"], label=r\"$\\beta_{1}$\")\n",
    "coef_plot.scatter(plot_df[\"gamma_std\"], plot_df[\"beta_2\"], label=r\"$\\beta_{2}$\")\n",
    "coef_plot.legend(loc=\"lower right\")\n",
    "\n",
    "corr_plot.plot(\n",
    "    plot_df[\"gamma_std\"],\n",
    "    plot_df[\"r\"].abs(),\n",
    "    label=r\"$\\mid\\rho(x_{1},\\,x_{2})\\mid$)\",\n",
    ")\n",
    "corr_plot.legend(loc=\"lower right\")"
   ]
  }
 ],
 "metadata": {
  "environment": {
   "name": "common-cpu.m65",
   "type": "gcloud",
   "uri": "gcr.io/deeplearning-platform-release/base-cpu:m65"
  },
  "kernelspec": {
   "display_name": "Python 3",
   "language": "python",
   "name": "python3"
  },
  "language_info": {
   "codemirror_mode": {
    "name": "ipython",
    "version": 3
   },
   "file_extension": ".py",
   "mimetype": "text/x-python",
   "name": "python",
   "nbconvert_exporter": "python",
   "pygments_lexer": "ipython3",
   "version": "3.7.10"
  }
 },
 "nbformat": 4,
 "nbformat_minor": 5
}
