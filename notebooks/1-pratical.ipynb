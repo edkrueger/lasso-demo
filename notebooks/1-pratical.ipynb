{
 "cells": [
  {
   "cell_type": "code",
   "execution_count": 1,
   "id": "1bc34884",
   "metadata": {},
   "outputs": [],
   "source": [
    "%load_ext lab_black"
   ]
  },
  {
   "cell_type": "code",
   "execution_count": 2,
   "id": "1980cc8d",
   "metadata": {},
   "outputs": [],
   "source": [
    "import os\n",
    "\n",
    "import pandas as pd\n",
    "import numpy as np\n",
    "import matplotlib.pyplot as plt\n",
    "import joblib\n",
    "\n",
    "from sklearn.pipeline import make_pipeline\n",
    "from sklearn.preprocessing import StandardScaler\n",
    "from sklearn.linear_model import (\n",
    "    LinearRegression,\n",
    "    LassoCV,\n",
    "    RidgeCV,\n",
    "    ElasticNetCV,\n",
    ")\n",
    "from sklearn.metrics import mean_squared_error"
   ]
  },
  {
   "cell_type": "code",
   "execution_count": 3,
   "id": "49a77553",
   "metadata": {},
   "outputs": [],
   "source": [
    "DATA_DIR = os.path.join(\"..\", \"data\")\n",
    "TRAIN_CSV_PATH = os.path.join(DATA_DIR, \"train.csv\")\n",
    "TEST_CSV_PATH = os.path.join(DATA_DIR, \"test.csv\")\n",
    "TARGET = \"progression\""
   ]
  },
  {
   "cell_type": "code",
   "execution_count": 4,
   "id": "736bb452",
   "metadata": {},
   "outputs": [],
   "source": [
    "train_df = pd.read_csv(TRAIN_CSV_PATH)\n",
    "X_train = train_df.drop(TARGET, axis=1).values\n",
    "y_train = train_df[TARGET].values"
   ]
  },
  {
   "cell_type": "code",
   "execution_count": 5,
   "id": "380825ca",
   "metadata": {},
   "outputs": [],
   "source": [
    "test_df = pd.read_csv(TEST_CSV_PATH)\n",
    "X_test = test_df.drop(TARGET, axis=1).values\n",
    "y_test = test_df[TARGET].values"
   ]
  },
  {
   "cell_type": "code",
   "execution_count": 6,
   "id": "d46398ca",
   "metadata": {},
   "outputs": [],
   "source": [
    "feature_names = train_df.drop(TARGET, axis=1).columns"
   ]
  },
  {
   "cell_type": "markdown",
   "id": "0a67bff3",
   "metadata": {},
   "source": [
    "### Linear Regression"
   ]
  },
  {
   "cell_type": "code",
   "execution_count": 7,
   "id": "6a00236a",
   "metadata": {},
   "outputs": [
    {
     "data": {
      "text/plain": [
       "Pipeline(steps=[('standardscaler', StandardScaler()),\n",
       "                ('linearregression', LinearRegression())])"
      ]
     },
     "execution_count": 7,
     "metadata": {},
     "output_type": "execute_result"
    }
   ],
   "source": [
    "linear_regression = make_pipeline(StandardScaler(), LinearRegression())\n",
    "linear_regression.fit(X_train, y_train)"
   ]
  },
  {
   "cell_type": "code",
   "execution_count": 8,
   "id": "070a3e79",
   "metadata": {},
   "outputs": [
    {
     "data": {
      "text/plain": [
       "2900.1732878832327"
      ]
     },
     "execution_count": 8,
     "metadata": {},
     "output_type": "execute_result"
    }
   ],
   "source": [
    "mean_squared_error(y_test, linear_regression.predict(X_test))"
   ]
  },
  {
   "cell_type": "code",
   "execution_count": 9,
   "id": "523c244e",
   "metadata": {},
   "outputs": [],
   "source": [
    "linear_regression_coef = linear_regression[-1].coef_"
   ]
  },
  {
   "cell_type": "code",
   "execution_count": 10,
   "id": "401755ba",
   "metadata": {},
   "outputs": [
    {
     "data": {
      "text/plain": [
       "[('age', 1.753586470776238),\n",
       " ('sex', -11.511898812668163),\n",
       " ('bmi', 25.606979573562278),\n",
       " ('bp', 16.82909953486284),\n",
       " ('s1', -44.44753934169174),\n",
       " ('s2', 24.640086878215367),\n",
       " ('s3', 7.676204996814376),\n",
       " ('s4', 13.138408649969096),\n",
       " ('s5', 35.16068783888524),\n",
       " ('s6', 2.3513862343830714)]"
      ]
     },
     "execution_count": 10,
     "metadata": {},
     "output_type": "execute_result"
    }
   ],
   "source": [
    "list(zip(feature_names, linear_regression_coef))"
   ]
  },
  {
   "cell_type": "markdown",
   "id": "fd395bc5",
   "metadata": {},
   "source": [
    "### Lasso Regression"
   ]
  },
  {
   "cell_type": "code",
   "execution_count": 11,
   "id": "f54fde6c",
   "metadata": {},
   "outputs": [
    {
     "data": {
      "text/plain": [
       "Pipeline(steps=[('standardscaler', StandardScaler()), ('lassocv', LassoCV())])"
      ]
     },
     "execution_count": 11,
     "metadata": {},
     "output_type": "execute_result"
    }
   ],
   "source": [
    "lasso_cv = make_pipeline(StandardScaler(), LassoCV())\n",
    "lasso_cv.fit(X_train, y_train)"
   ]
  },
  {
   "cell_type": "code",
   "execution_count": 12,
   "id": "682cecc1",
   "metadata": {},
   "outputs": [
    {
     "data": {
      "text/plain": [
       "2800.4843916325653"
      ]
     },
     "execution_count": 12,
     "metadata": {},
     "output_type": "execute_result"
    }
   ],
   "source": [
    "mean_squared_error(y_test, lasso_cv.predict(X_test))"
   ]
  },
  {
   "cell_type": "code",
   "execution_count": 13,
   "id": "323104e4",
   "metadata": {},
   "outputs": [],
   "source": [
    "lasso_cv_coef = lasso_cv[-1].coef_"
   ]
  },
  {
   "cell_type": "code",
   "execution_count": 14,
   "id": "fe42df74",
   "metadata": {},
   "outputs": [
    {
     "data": {
      "text/plain": [
       "[('age', 0.0),\n",
       " ('sex', -7.9806806591971355),\n",
       " ('bmi', 26.185514782152282),\n",
       " ('bp', 15.042067071866205),\n",
       " ('s1', -4.805475406311894),\n",
       " ('s2', -0.0),\n",
       " ('s3', -11.072005148862326),\n",
       " ('s4', 0.0),\n",
       " ('s5', 21.96222605365262),\n",
       " ('s6', 1.7387714671585073)]"
      ]
     },
     "execution_count": 14,
     "metadata": {},
     "output_type": "execute_result"
    }
   ],
   "source": [
    "list(zip(feature_names, lasso_cv_coef))"
   ]
  },
  {
   "cell_type": "markdown",
   "id": "150815b7",
   "metadata": {},
   "source": [
    "### Ridge Regression"
   ]
  },
  {
   "cell_type": "code",
   "execution_count": 15,
   "id": "6c403c66",
   "metadata": {},
   "outputs": [
    {
     "data": {
      "text/plain": [
       "Pipeline(steps=[('standardscaler', StandardScaler()),\n",
       "                ('ridgecv', RidgeCV(alphas=array([ 0.1,  1. , 10. ])))])"
      ]
     },
     "execution_count": 15,
     "metadata": {},
     "output_type": "execute_result"
    }
   ],
   "source": [
    "ridge_cv = make_pipeline(StandardScaler(), RidgeCV())\n",
    "ridge_cv.fit(X_train, y_train)"
   ]
  },
  {
   "cell_type": "code",
   "execution_count": 16,
   "id": "45e9616a",
   "metadata": {},
   "outputs": [
    {
     "data": {
      "text/plain": [
       "2891.9980521078182"
      ]
     },
     "execution_count": 16,
     "metadata": {},
     "output_type": "execute_result"
    }
   ],
   "source": [
    "mean_squared_error(y_test, ridge_cv.predict(X_test))"
   ]
  },
  {
   "cell_type": "code",
   "execution_count": 17,
   "id": "05b6c590",
   "metadata": {},
   "outputs": [],
   "source": [
    "ridge_cv_coef = ridge_cv[-1].coef_"
   ]
  },
  {
   "cell_type": "code",
   "execution_count": 18,
   "id": "1991bfc4",
   "metadata": {},
   "outputs": [
    {
     "data": {
      "text/plain": [
       "[('age', 1.8071866467212772),\n",
       " ('sex', -11.448279529900617),\n",
       " ('bmi', 25.73255227956571),\n",
       " ('bp', 16.734555098556463),\n",
       " ('s1', -34.67081582551714),\n",
       " ('s2', 17.05230020127047),\n",
       " ('s3', 3.3692434218043275),\n",
       " ('s4', 11.76396047629234),\n",
       " ('s5', 31.377918941512366),\n",
       " ('s6', 2.4581605389598025)]"
      ]
     },
     "execution_count": 18,
     "metadata": {},
     "output_type": "execute_result"
    }
   ],
   "source": [
    "list(zip(feature_names, ridge_cv_coef))"
   ]
  },
  {
   "cell_type": "markdown",
   "id": "23d5c01f",
   "metadata": {},
   "source": [
    "### Elastic Net ($\\lambda=.5$)"
   ]
  },
  {
   "cell_type": "code",
   "execution_count": 19,
   "id": "69113f2f",
   "metadata": {},
   "outputs": [
    {
     "data": {
      "text/plain": [
       "Pipeline(steps=[('standardscaler', StandardScaler()),\n",
       "                ('elasticnetcv', ElasticNetCV())])"
      ]
     },
     "execution_count": 19,
     "metadata": {},
     "output_type": "execute_result"
    }
   ],
   "source": [
    "elastic_net_cv = make_pipeline(StandardScaler(), ElasticNetCV())\n",
    "elastic_net_cv.fit(X_train, y_train)"
   ]
  },
  {
   "cell_type": "code",
   "execution_count": 20,
   "id": "160bc707",
   "metadata": {},
   "outputs": [
    {
     "data": {
      "text/plain": [
       "2855.9875167469313"
      ]
     },
     "execution_count": 20,
     "metadata": {},
     "output_type": "execute_result"
    }
   ],
   "source": [
    "mean_squared_error(y_test, elastic_net_cv.predict(X_test))"
   ]
  },
  {
   "cell_type": "code",
   "execution_count": 21,
   "id": "461f6d93",
   "metadata": {},
   "outputs": [],
   "source": [
    "elastic_net_cv_coef = elastic_net_cv[-1].coef_"
   ]
  },
  {
   "cell_type": "code",
   "execution_count": 22,
   "id": "74dee904",
   "metadata": {},
   "outputs": [
    {
     "data": {
      "text/plain": [
       "[('age', 1.8919697415017949),\n",
       " ('sex', -9.966120286895348),\n",
       " ('bmi', 24.43497158711319),\n",
       " ('bp', 15.49052257631271),\n",
       " ('s1', -5.825705473168819),\n",
       " ('s2', -3.697845058160397),\n",
       " ('s3', -8.879270870693972),\n",
       " ('s4', 7.060851640529317),\n",
       " ('s5', 19.34672239626727),\n",
       " ('s6', 3.5602631760126755)]"
      ]
     },
     "execution_count": 22,
     "metadata": {},
     "output_type": "execute_result"
    }
   ],
   "source": [
    "list(zip(feature_names, elastic_net_cv_coef))"
   ]
  },
  {
   "cell_type": "markdown",
   "id": "f6972233",
   "metadata": {},
   "source": [
    "### Coefficient Plot"
   ]
  },
  {
   "cell_type": "code",
   "execution_count": 23,
   "id": "70f20f92",
   "metadata": {},
   "outputs": [
    {
     "data": {
      "image/png": "[encoded data removed]",
      "text/plain": [
       "<Figure size 432x288 with 1 Axes>"
      ]
     },
     "metadata": {
      "needs_background": "light"
     },
     "output_type": "display_data"
    }
   ],
   "source": [
    "plot_df = pd.DataFrame(\n",
    "    {\n",
    "        \"Linear Regression\": linear_regression_coef,\n",
    "        \"Ridge CV\": ridge_cv_coef,\n",
    "        \"Elastic Net CV\": elastic_net_cv_coef,\n",
    "        \"Lasso CV\": lasso_cv_coef,\n",
    "    },\n",
    "    index=feature_names,\n",
    ").plot.bar(title=\"Coefficient Plot\", xlabel=\"Feature\", ylabel=\"Coeff\", grid=True)"
   ]
  }
 ],
 "metadata": {
  "environment": {
   "name": "common-cpu.m65",
   "type": "gcloud",
   "uri": "gcr.io/deeplearning-platform-release/base-cpu:m65"
  },
  "kernelspec": {
   "display_name": "Python 3",
   "language": "python",
   "name": "python3"
  },
  "language_info": {
   "codemirror_mode": {
    "name": "ipython",
    "version": 3
   },
   "file_extension": ".py",
   "mimetype": "text/x-python",
   "name": "python",
   "nbconvert_exporter": "python",
   "pygments_lexer": "ipython3",
   "version": "3.7.10"
  }
 },
 "nbformat": 4,
 "nbformat_minor": 5
}
