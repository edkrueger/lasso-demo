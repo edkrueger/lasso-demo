{
 "cells": [
  {
   "cell_type": "code",
   "execution_count": 1,
   "id": "5f5768f5",
   "metadata": {},
   "outputs": [],
   "source": [
    "%load_ext lab_black"
   ]
  },
  {
   "cell_type": "code",
   "execution_count": 2,
   "id": "42b34680",
   "metadata": {},
   "outputs": [],
   "source": [
    "import numpy as np\n",
    "\n",
    "from scipy.stats.stats import pearsonr\n",
    "from sklearn.pipeline import make_pipeline\n",
    "from sklearn.preprocessing import StandardScaler\n",
    "from sklearn.linear_model import (\n",
    "    LinearRegression,\n",
    "    LassoCV,\n",
    ")\n",
    "from sklearn.metrics import mean_squared_error"
   ]
  },
  {
   "cell_type": "code",
   "execution_count": 3,
   "id": "87ab1361",
   "metadata": {},
   "outputs": [],
   "source": [
    "np.random.seed(1232)"
   ]
  },
  {
   "cell_type": "code",
   "execution_count": 4,
   "id": "d4ffe864",
   "metadata": {},
   "outputs": [],
   "source": [
    "N_OBS = 100"
   ]
  },
  {
   "cell_type": "code",
   "execution_count": 5,
   "id": "6fa4ff1c",
   "metadata": {},
   "outputs": [],
   "source": [
    "x_1 = np.random.uniform(0, 10, N_OBS)\n",
    "e = np.random.normal(0, 1, N_OBS)\n",
    "y = 3 + 2 * x_1 + e\n",
    "g = np.random.normal(0, 0.5, N_OBS)\n",
    "x_2 = -x_1 + g\n",
    "r, _ = pearsonr(x_1, x_2)"
   ]
  },
  {
   "cell_type": "code",
   "execution_count": 6,
   "id": "b8bad2e7",
   "metadata": {},
   "outputs": [
    {
     "data": {
      "text/plain": [
       "-0.982315298787412"
      ]
     },
     "execution_count": 6,
     "metadata": {},
     "output_type": "execute_result"
    }
   ],
   "source": [
    "r"
   ]
  },
  {
   "cell_type": "code",
   "execution_count": 7,
   "id": "1e44f7ae",
   "metadata": {},
   "outputs": [],
   "source": [
    "x_1_new_scale = (1 / 100) * x_1"
   ]
  },
  {
   "cell_type": "code",
   "execution_count": 8,
   "id": "79fd0447",
   "metadata": {},
   "outputs": [],
   "source": [
    "X_1 = x_1.reshape(-1, 1)\n",
    "X_1_new_scale = x_1_new_scale.reshape(-1, 1)\n",
    "X_2 = x_2.reshape(-1, 1)\n",
    "X = np.concatenate((X_1, X_2), axis=1)\n",
    "X_new_scale = np.concatenate((X_1_new_scale, X_2), axis=1)"
   ]
  },
  {
   "cell_type": "code",
   "execution_count": 9,
   "id": "83315bf2",
   "metadata": {},
   "outputs": [],
   "source": [
    "ols_1 = LinearRegression().fit(X_1, y)\n",
    "ols_1_new_scale = LinearRegression().fit(X_1_new_scale, y)\n",
    "ols_2 = LinearRegression().fit(X_2, y)\n",
    "ols = LinearRegression().fit(X, y)\n",
    "ols_new_scale = LinearRegression().fit(X_new_scale, y)\n",
    "lasso = LassoCV().fit(X, y)\n",
    "lasso_new_scale = LassoCV().fit(X_new_scale, y)"
   ]
  },
  {
   "cell_type": "code",
   "execution_count": 10,
   "id": "d1b00cd1",
   "metadata": {},
   "outputs": [],
   "source": [
    "y_hat_ols_1 = ols_1.predict(X_1)\n",
    "y_hat_ols_1_new_scale = ols_1_new_scale.predict(X_1_new_scale)\n",
    "y_hat_ols_2 = ols_2.predict(X_2)\n",
    "y_hat_ols = ols.predict(X)\n",
    "y_hat_ols_new_scale = ols_new_scale.predict(X_new_scale)\n",
    "y_hat_lasso = lasso.predict(X)\n",
    "y_hat_lasso_new_scale = lasso_new_scale.predict(X_new_scale)"
   ]
  },
  {
   "cell_type": "code",
   "execution_count": 11,
   "id": "a58e52d6",
   "metadata": {},
   "outputs": [],
   "source": [
    "mse_ols_1 = mean_squared_error(y, y_hat_ols_1)\n",
    "mse_ols_1_new_scale = mean_squared_error(y, y_hat_ols_1_new_scale)\n",
    "mse_ols_2 = mean_squared_error(y, y_hat_ols_2)\n",
    "mse_ols = mean_squared_error(y, y_hat_ols)\n",
    "mse_ols_new_scale = mean_squared_error(y, y_hat_ols_new_scale)\n",
    "mse_lasso = mean_squared_error(y, y_hat_lasso)\n",
    "mse_lasso_new_scale = mean_squared_error(y, y_hat_lasso_new_scale)"
   ]
  },
  {
   "cell_type": "code",
   "execution_count": 12,
   "id": "f1eef686",
   "metadata": {},
   "outputs": [
    {
     "name": "stdout",
     "output_type": "stream",
     "text": [
      "0.8832076713139565\n",
      "0.8832076713139567\n",
      "1.9349716560828156\n",
      "0.8820340638669439\n",
      "0.8820340638669439\n",
      "0.8839162646122282\n",
      "1.938546954576011\n"
     ]
    }
   ],
   "source": [
    "print(mse_ols_1)\n",
    "print(mse_ols_1_new_scale)\n",
    "print(mse_ols_2)\n",
    "print(mse_ols)\n",
    "print(mse_ols_new_scale)\n",
    "print(mse_lasso)\n",
    "print(mse_lasso_new_scale)"
   ]
  },
  {
   "cell_type": "code",
   "execution_count": 13,
   "id": "6153c752",
   "metadata": {},
   "outputs": [],
   "source": [
    "coef_ols_1 = ols_1.coef_\n",
    "coef_ols_1_new_scale = ols_1_new_scale.coef_\n",
    "coef_ols_2 = ols_2.coef_\n",
    "coef_ols = ols.coef_\n",
    "coef_ols_new_scale = ols_new_scale.coef_\n",
    "coef_lasso = lasso.coef_\n",
    "coef_lasso_new_scale = lasso_new_scale.coef_"
   ]
  },
  {
   "cell_type": "code",
   "execution_count": 14,
   "id": "6238a03b",
   "metadata": {},
   "outputs": [
    {
     "name": "stdout",
     "output_type": "stream",
     "text": [
      "[2.00772036]\n",
      "[200.77203618]\n",
      "[-1.91531443]\n",
      "[2.07579664 0.06738546]\n",
      "[2.07579664e+02 6.73854584e-02]\n",
      "[ 1.99763788 -0.        ]\n",
      "[ 0.         -1.89329297]\n"
     ]
    }
   ],
   "source": [
    "print(coef_ols_1)\n",
    "print(coef_ols_1_new_scale)\n",
    "print(coef_ols_2)\n",
    "print(coef_ols)\n",
    "print(coef_ols_new_scale)\n",
    "print(coef_lasso)\n",
    "print(coef_lasso_new_scale)"
   ]
  }
 ],
 "metadata": {
  "environment": {
   "name": "common-cpu.m65",
   "type": "gcloud",
   "uri": "gcr.io/deeplearning-platform-release/base-cpu:m65"
  },
  "kernelspec": {
   "display_name": "Python 3",
   "language": "python",
   "name": "python3"
  },
  "language_info": {
   "codemirror_mode": {
    "name": "ipython",
    "version": 3
   },
   "file_extension": ".py",
   "mimetype": "text/x-python",
   "name": "python",
   "nbconvert_exporter": "python",
   "pygments_lexer": "ipython3",
   "version": "3.7.10"
  }
 },
 "nbformat": 4,
 "nbformat_minor": 5
}
