{
 "cells": [
  {
   "cell_type": "code",
   "execution_count": 1,
   "id": "cdb85cc7",
   "metadata": {},
   "outputs": [],
   "source": [
    "%load_ext lab_black"
   ]
  },
  {
   "cell_type": "code",
   "execution_count": 2,
   "id": "5b0b1293",
   "metadata": {},
   "outputs": [],
   "source": [
    "import numpy as np\n",
    "import pandas as pd\n",
    "\n",
    "import matplotlib.pyplot as plt\n",
    "\n",
    "from scipy.stats.stats import pearsonr\n",
    "from sklearn.pipeline import make_pipeline\n",
    "from sklearn.preprocessing import StandardScaler\n",
    "from sklearn.linear_model import (\n",
    "    LinearRegression,\n",
    "    LassoCV,\n",
    ")\n",
    "from sklearn.metrics import mean_squared_error\n",
    "from sklearn.model_selection import cross_validate\n",
    "\n",
    "from pprint import pprint"
   ]
  },
  {
   "cell_type": "code",
   "execution_count": 3,
   "id": "a2a23c60",
   "metadata": {},
   "outputs": [],
   "source": [
    "def cross_validate_report(model, X, y, show=True, return_coef=False):\n",
    "    scoring = [\"neg_mean_squared_error\", \"neg_root_mean_squared_error\"]\n",
    "\n",
    "    result = cross_validate(model, X, y, scoring=scoring, return_estimator=True)\n",
    "\n",
    "    coef_estimates = [list(estimator.coef_) for estimator in result[\"estimator\"]]\n",
    "\n",
    "    cv_test_mse = -result[\"test_neg_mean_squared_error\"].mean()\n",
    "    cv_test_rmse = -result[\"test_neg_root_mean_squared_error\"].mean()\n",
    "\n",
    "    if show:\n",
    "        print(\"Test Metrics\")\n",
    "        print(f\"CV Test MSE: {cv_test_mse}\")\n",
    "        print(f\"CV Test RMSE: {cv_test_rmse}\")\n",
    "        print()\n",
    "        print(f\"Coefficient Estimates Across Folds: \")\n",
    "        pprint(coef_estimates)\n",
    "\n",
    "    if return_coef:\n",
    "        return coef_estimates"
   ]
  },
  {
   "cell_type": "code",
   "execution_count": 4,
   "id": "bd736ed1",
   "metadata": {},
   "outputs": [],
   "source": [
    "SEED = 1232\n",
    "N_OBS = 1000"
   ]
  },
  {
   "cell_type": "code",
   "execution_count": 5,
   "id": "3d43b88c",
   "metadata": {},
   "outputs": [],
   "source": [
    "np.random.seed(SEED)"
   ]
  },
  {
   "cell_type": "code",
   "execution_count": 6,
   "id": "5b2f77ae",
   "metadata": {},
   "outputs": [],
   "source": [
    "x_1 = np.random.uniform(0, 10, N_OBS)\n",
    "e = np.random.normal(0, 1, N_OBS)\n",
    "y = 3 + 2 * x_1 + e"
   ]
  },
  {
   "cell_type": "code",
   "execution_count": 7,
   "id": "55677032",
   "metadata": {},
   "outputs": [
    {
     "name": "stdout",
     "output_type": "stream",
     "text": [
      "Test Metrics\n",
      "CV Test MSE: 1.082097929792948\n",
      "CV Test RMSE: 1.037556273372198\n",
      "\n",
      "Coefficient Estimates Across Folds: \n",
      "[[1.9941598842341444],\n",
      " [2.003269153324389],\n",
      " [1.9952964817410503],\n",
      " [1.9894677458455363],\n",
      " [1.9885074228378194]]\n"
     ]
    }
   ],
   "source": [
    "X_1 = x_1.reshape(-1, 1)\n",
    "\n",
    "cross_validate_report(LinearRegression(), X_1, y)"
   ]
  },
  {
   "cell_type": "code",
   "execution_count": 8,
   "id": "345676bd",
   "metadata": {},
   "outputs": [],
   "source": [
    "g = np.random.normal(0, 0.1, N_OBS)\n",
    "x_2 = -x_1 + g"
   ]
  },
  {
   "cell_type": "code",
   "execution_count": 9,
   "id": "4df63eac",
   "metadata": {},
   "outputs": [
    {
     "name": "stdout",
     "output_type": "stream",
     "text": [
      "-0.9994011519880747\n"
     ]
    }
   ],
   "source": [
    "r, _ = pearsonr(x_1, x_2)\n",
    "print(r)"
   ]
  },
  {
   "cell_type": "code",
   "execution_count": 10,
   "id": "553324ea",
   "metadata": {},
   "outputs": [
    {
     "name": "stdout",
     "output_type": "stream",
     "text": [
      "Test Metrics\n",
      "CV Test MSE: 1.1168712272079149\n",
      "CV Test RMSE: 1.0537724203735295\n",
      "\n",
      "Coefficient Estimates Across Folds: \n",
      "[[-1.9903178261047956],\n",
      " [-1.998657217144718],\n",
      " [-1.9890440565195024],\n",
      " [-1.983499647509015],\n",
      " [-1.9834489190091635]]\n"
     ]
    }
   ],
   "source": [
    "X_2 = x_2.reshape(-1, 1)\n",
    "\n",
    "cross_validate_report(LinearRegression(), X_2, y)"
   ]
  },
  {
   "cell_type": "code",
   "execution_count": 11,
   "id": "e69dab1b",
   "metadata": {},
   "outputs": [
    {
     "name": "stdout",
     "output_type": "stream",
     "text": [
      "Test Metrics\n",
      "CV Test MSE: 1.0835298196452652\n",
      "CV Test RMSE: 1.0382160432570071\n",
      "\n",
      "Coefficient Estimates Across Folds: \n",
      "[[1.8029027470038652, -0.19109142585953637],\n",
      " [1.6384195458596402, -0.3643687849363034],\n",
      " [1.8564194447233686, -0.1385964284121925],\n",
      " [2.0454448403573444, 0.055878025959504085],\n",
      " [1.8401177092087693, -0.14817814320570755]]\n"
     ]
    }
   ],
   "source": [
    "X = np.concatenate((X_1, X_2), axis=1)\n",
    "cross_validate_report(LinearRegression(), X, y)"
   ]
  },
  {
   "cell_type": "code",
   "execution_count": 12,
   "id": "59ec04bb",
   "metadata": {},
   "outputs": [],
   "source": [
    "data = []\n",
    "\n",
    "for gamma_std in np.linspace(0.01, 0.2):\n",
    "    g = np.random.normal(0, gamma_std, N_OBS)\n",
    "    x_2 = -x_1 + g\n",
    "    X_2 = x_2.reshape(-1, 1)\n",
    "    X = np.concatenate((X_1, X_2), axis=1)\n",
    "\n",
    "    r, _ = pearsonr(x_1, x_2)\n",
    "    coefs_across_folds = cross_validate_report(\n",
    "        LinearRegression(), X, y, show=False, return_coef=True\n",
    "    )\n",
    "\n",
    "    for coefs_fold in coefs_across_folds:\n",
    "        beta_1 = coefs_fold[0]\n",
    "        beta_2 = coefs_fold[1]\n",
    "        data.append(\n",
    "            {\"gamma_std\": gamma_std, \"r\": r, \"beta_1\": beta_1, \"beta_2\": beta_2}\n",
    "        )"
   ]
  },
  {
   "cell_type": "code",
   "execution_count": 13,
   "id": "e9b6755b",
   "metadata": {},
   "outputs": [],
   "source": [
    "plot_df = pd.DataFrame(data)"
   ]
  },
  {
   "cell_type": "code",
   "execution_count": 14,
   "id": "e534a535",
   "metadata": {},
   "outputs": [
    {
     "data": {
      "image/png": "[encoded data removed]",
      "text/plain": [
       "<Figure size 1152x432 with 2 Axes>"
      ]
     },
     "metadata": {
      "needs_background": "light"
     },
     "output_type": "display_data"
    }
   ],
   "source": [
    "fig, axes = plt.subplots(nrows=2, ncols=1, figsize=(16, 6))\n",
    "\n",
    "coef_plot = axes[0]\n",
    "corr_plot = axes[1]\n",
    "\n",
    "coef_plot.scatter(plot_df[\"gamma_std\"], plot_df[\"beta_1\"], label=r\"$\\beta_{1}$\")\n",
    "coef_plot.scatter(plot_df[\"gamma_std\"], plot_df[\"beta_2\"], label=r\"$\\beta_{2}$\")\n",
    "coef_plot.legend(loc=\"upper right\")\n",
    "coef_plot.set_ylabel(r\"Coefficients\", size=16)\n",
    "\n",
    "corr_plot.plot(\n",
    "    plot_df[\"gamma_std\"],\n",
    "    plot_df[\"r\"].abs(),\n",
    "    label=r\"$\\mid\\rho(x_{1},\\,x_{2})\\mid$)\",\n",
    ")\n",
    "corr_plot\n",
    "corr_plot.legend(loc=\"upper right\")\n",
    "corr_plot.yaxis.set_major_formatter(\"{x:.4f}\")\n",
    "corr_plot.set_ylabel(r\"$\\mid$Correlation$\\mid$\", size=16)\n",
    "\n",
    "fig.suptitle(\"Effect of Correlation on Coefficients\", size=20)\n",
    "fig.supxlabel(r\"Standard Deviation of $\\gamma$ ($\\gamma_{\\sigma}$)\", size=16)\n",
    "\n",
    "plt.show()"
   ]
  },
  {
   "cell_type": "code",
   "execution_count": null,
   "id": "9e6a7fa9",
   "metadata": {},
   "outputs": [],
   "source": []
  }
 ],
 "metadata": {
  "environment": {
   "name": "common-cpu.m65",
   "type": "gcloud",
   "uri": "gcr.io/deeplearning-platform-release/base-cpu:m65"
  },
  "kernelspec": {
   "display_name": "Python 3",
   "language": "python",
   "name": "python3"
  },
  "language_info": {
   "codemirror_mode": {
    "name": "ipython",
    "version": 3
   },
   "file_extension": ".py",
   "mimetype": "text/x-python",
   "name": "python",
   "nbconvert_exporter": "python",
   "pygments_lexer": "ipython3",
   "version": "3.7.10"
  }
 },
 "nbformat": 4,
 "nbformat_minor": 5
}
