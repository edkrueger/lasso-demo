{
 "cells": [
  {
   "cell_type": "code",
   "execution_count": 1,
   "id": "a7c70b8e",
   "metadata": {},
   "outputs": [],
   "source": [
    "%load_ext lab_black"
   ]
  },
  {
   "cell_type": "code",
   "execution_count": 2,
   "id": "8c3f72ec",
   "metadata": {},
   "outputs": [],
   "source": [
    "import numpy as np\n",
    "import pandas as pd\n",
    "\n",
    "import matplotlib.pyplot as plt\n",
    "\n",
    "from scipy.stats.stats import pearsonr\n",
    "from sklearn.pipeline import make_pipeline\n",
    "from sklearn.preprocessing import StandardScaler\n",
    "from sklearn.linear_model import LinearRegression, LassoCV\n",
    "from sklearn.metrics import mean_squared_error\n",
    "from sklearn.model_selection import cross_validate\n",
    "\n",
    "from pprint import pprint"
   ]
  },
  {
   "cell_type": "code",
   "execution_count": 3,
   "id": "cb7076e9",
   "metadata": {},
   "outputs": [],
   "source": [
    "def cross_validate_report(model, X, y, show=True, return_coef=False):\n",
    "    scoring = [\"neg_mean_squared_error\", \"neg_root_mean_squared_error\"]\n",
    "\n",
    "    result = cross_validate(model, X, y, scoring=scoring, return_estimator=True)\n",
    "\n",
    "    coef_estimates = [list(estimator.coef_) for estimator in result[\"estimator\"]]\n",
    "\n",
    "    cv_test_mse = -result[\"test_neg_mean_squared_error\"].mean()\n",
    "    cv_test_rmse = -result[\"test_neg_root_mean_squared_error\"].mean()\n",
    "\n",
    "    if show:\n",
    "        print(\"Test Metrics\")\n",
    "        print(f\"CV Test MSE: {cv_test_mse}\")\n",
    "        print(f\"CV Test RMSE: {cv_test_rmse}\")\n",
    "        print()\n",
    "        print(f\"Coefficient Estimates Across Folds: \")\n",
    "        pprint(coef_estimates)\n",
    "\n",
    "    if return_coef:\n",
    "        return coef_estimates"
   ]
  },
  {
   "cell_type": "code",
   "execution_count": 4,
   "id": "27190d72",
   "metadata": {},
   "outputs": [],
   "source": [
    "SEED = 1232\n",
    "N_OBS = 10_000"
   ]
  },
  {
   "cell_type": "code",
   "execution_count": 5,
   "id": "0efaf7bc",
   "metadata": {},
   "outputs": [],
   "source": [
    "np.random.seed(SEED)"
   ]
  },
  {
   "cell_type": "code",
   "execution_count": 6,
   "id": "ac987bd8",
   "metadata": {},
   "outputs": [],
   "source": [
    "x_1 = np.random.uniform(0, 10, N_OBS)\n",
    "e = np.random.normal(0, 1, N_OBS)\n",
    "y = 3 + 2 * x_1 + e\n",
    "X_1 = x_1.reshape(-1, 1)"
   ]
  },
  {
   "cell_type": "code",
   "execution_count": 7,
   "id": "98ef6407",
   "metadata": {},
   "outputs": [
    {
     "name": "stdout",
     "output_type": "stream",
     "text": [
      "Test Metrics\n",
      "CV Test MSE: 0.9976868485897763\n",
      "CV Test RMSE: 0.9986361850659733\n",
      "\n",
      "Coefficient Estimates Across Folds: \n",
      "[[2.003916504815428],\n",
      " [1.999360739873484],\n",
      " [2.0022054580572983],\n",
      " [2.002643045098601],\n",
      " [1.997803728371471]]\n"
     ]
    }
   ],
   "source": [
    "cross_validate_report(LinearRegression(), X_1, y)"
   ]
  },
  {
   "cell_type": "code",
   "execution_count": 8,
   "id": "8e2b4374",
   "metadata": {},
   "outputs": [],
   "source": [
    "g = np.random.normal(0, 0.02, N_OBS)\n",
    "x_2 = -x_1 + g\n",
    "X_2 = x_2.reshape(-1, 1)"
   ]
  },
  {
   "cell_type": "code",
   "execution_count": 9,
   "id": "e7facac6",
   "metadata": {},
   "outputs": [
    {
     "name": "stdout",
     "output_type": "stream",
     "text": [
      "-0.9999763618212614\n"
     ]
    }
   ],
   "source": [
    "r, _ = pearsonr(x_1, x_2)\n",
    "print(r)"
   ]
  },
  {
   "cell_type": "code",
   "execution_count": 10,
   "id": "2b6fafa2",
   "metadata": {},
   "outputs": [
    {
     "name": "stdout",
     "output_type": "stream",
     "text": [
      "Test Metrics\n",
      "CV Test MSE: 0.999251622173378\n",
      "CV Test RMSE: 0.9994287523796187\n",
      "\n",
      "Coefficient Estimates Across Folds: \n",
      "[[-2.003950093657345],\n",
      " [-1.9993568555858896],\n",
      " [-2.0019507942016554],\n",
      " [-2.002570445670684],\n",
      " [-1.9976575145905358]]\n"
     ]
    }
   ],
   "source": [
    "cross_validate_report(LinearRegression(), X_2, y)"
   ]
  },
  {
   "cell_type": "code",
   "execution_count": 11,
   "id": "4661cfdd",
   "metadata": {},
   "outputs": [],
   "source": [
    "X = np.concatenate((X_1, X_2), axis=1)"
   ]
  },
  {
   "cell_type": "code",
   "execution_count": 12,
   "id": "4f10e8d6",
   "metadata": {},
   "outputs": [
    {
     "name": "stdout",
     "output_type": "stream",
     "text": [
      "Test Metrics\n",
      "CV Test MSE: 0.9979789014383658\n",
      "CV Test RMSE: 0.998782820506453\n",
      "\n",
      "Coefficient Estimates Across Folds: \n",
      "[[2.162196563423683, 0.1582907346858038],\n",
      " [1.7455118735736175, -0.2538589115804198],\n",
      " [1.8375370239161435, -0.1646546371137125],\n",
      " [2.482849308363655, 0.48021684530968234],\n",
      " [1.7367885620817711, -0.2610068478133601]]\n"
     ]
    }
   ],
   "source": [
    "cross_validate_report(LinearRegression(), X, y)"
   ]
  },
  {
   "cell_type": "code",
   "execution_count": 13,
   "id": "767be521",
   "metadata": {},
   "outputs": [
    {
     "name": "stdout",
     "output_type": "stream",
     "text": [
      "Test Metrics\n",
      "CV Test MSE: 0.997719657693275\n",
      "CV Test RMSE: 0.9986556274421525\n",
      "\n",
      "Coefficient Estimates Across Folds: \n",
      "[[2.001912588310612, -0.0],\n",
      " [1.9973493876757304, -2.3983294588933922e-05],\n",
      " [2.000195120687073, -1.591099100072113e-05],\n",
      " [2.0006404020535014, -0.0],\n",
      " [1.9957933792306792, -2.4937281229812884e-05]]\n"
     ]
    }
   ],
   "source": [
    "cross_validate_report(LassoCV(), X, y)"
   ]
  },
  {
   "cell_type": "code",
   "execution_count": 14,
   "id": "056b8aea",
   "metadata": {},
   "outputs": [
    {
     "name": "stdout",
     "output_type": "stream",
     "text": [
      "CPU times: user 20.5 s, sys: 7.56 ms, total: 20.5 s\n",
      "Wall time: 21.3 s\n"
     ]
    }
   ],
   "source": [
    "%%time\n",
    "data = []\n",
    "\n",
    "for gamma_std in np.linspace(0.005, 0.1):\n",
    "    g = np.random.normal(0, gamma_std, N_OBS)\n",
    "    x_2 = -x_1 + g\n",
    "    X_2 = x_2.reshape(-1, 1)\n",
    "    X = np.concatenate((X_1, X_2), axis=1)\n",
    "\n",
    "    r, _ = pearsonr(x_1, x_2)\n",
    "\n",
    "    lr_coefs_across_folds = cross_validate_report(\n",
    "        LinearRegression(), X, y, show=False, return_coef=True\n",
    "    )\n",
    "\n",
    "    lasso_coefs_across_folds = cross_validate_report(\n",
    "        LassoCV(max_iter=3_000), X, y, show=False, return_coef=True\n",
    "    )\n",
    "\n",
    "    for lr_coefs_fold, lasso_coefs in zip(\n",
    "        lr_coefs_across_folds, lasso_coefs_across_folds\n",
    "    ):\n",
    "        lr_beta_1 = lr_coefs_fold[0]\n",
    "        lr_beta_2 = lr_coefs_fold[1]\n",
    "        lasso_beta_1 = lasso_coefs[0]\n",
    "        lasso_beta_2 = lasso_coefs[1]\n",
    "        data.append(\n",
    "            {\n",
    "                \"gamma_std\": gamma_std,\n",
    "                \"r\": r,\n",
    "                \"lr_beta_1\": lr_beta_1,\n",
    "                \"lr_beta_2\": lr_beta_2,\n",
    "                \"lasso_beta_1\": lasso_beta_1,\n",
    "                \"lasso_beta_2\": lasso_beta_2,\n",
    "            }\n",
    "        )\n",
    "\n",
    "plot_df = pd.DataFrame(data)"
   ]
  },
  {
   "cell_type": "code",
   "execution_count": 15,
   "id": "4ae8dae9",
   "metadata": {},
   "outputs": [
    {
     "data": {
      "image/png": "[encoded data removed]",
      "text/plain": [
       "<Figure size 1152x576 with 3 Axes>"
      ]
     },
     "metadata": {
      "needs_background": "light"
     },
     "output_type": "display_data"
    }
   ],
   "source": [
    "fig, axes = plt.subplots(nrows=3, ncols=1, figsize=(16, 8))\n",
    "\n",
    "lr_coef_plot = axes[0]\n",
    "lasso_coef_plot = axes[1]\n",
    "corr_plot = axes[2]\n",
    "\n",
    "lr_coef_plot.scatter(plot_df[\"gamma_std\"], plot_df[\"lr_beta_1\"], label=r\"$\\beta_{1}$\")\n",
    "lr_coef_plot.scatter(plot_df[\"gamma_std\"], plot_df[\"lr_beta_2\"], label=r\"$\\beta_{2}$\")\n",
    "lr_coef_plot.legend(loc=\"upper right\")\n",
    "lr_coef_plot.yaxis.set_major_formatter(\"{x:.4f}\")\n",
    "lr_coef_plot.set_title(\"Linear Regression\", size=16)\n",
    "lr_coef_plot.set_ylabel(r\"Coefficients\", size=16)\n",
    "\n",
    "lasso_coef_plot.scatter(\n",
    "    plot_df[\"gamma_std\"], plot_df[\"lasso_beta_1\"], label=r\"$\\beta_{1}$\"\n",
    ")\n",
    "lasso_coef_plot.scatter(\n",
    "    plot_df[\"gamma_std\"], plot_df[\"lasso_beta_2\"], label=r\"$\\beta_{2}$\"\n",
    ")\n",
    "lasso_coef_plot.legend(loc=\"upper right\")\n",
    "lasso_coef_plot.yaxis.set_major_formatter(\"{x:.4f}\")\n",
    "lasso_coef_plot.set_title(\"Lasso Regression\", size=16)\n",
    "lasso_coef_plot.set_ylabel(r\"Coefficients\", size=16)\n",
    "\n",
    "corr_plot.plot(\n",
    "    plot_df[\"gamma_std\"],\n",
    "    plot_df[\"r\"].abs(),\n",
    "    label=r\"$\\mid\\rho(x_{1},\\,x_{2})\\mid$)\",\n",
    ")\n",
    "corr_plot\n",
    "corr_plot.legend(loc=\"upper right\")\n",
    "corr_plot.yaxis.set_major_formatter(\"{x:.4f}\")\n",
    "corr_plot.set_ylabel(r\"$\\mid$Correlation$\\mid$\", size=16)\n",
    "\n",
    "fig.suptitle(\"Effect of Correlation on Coefficients\", size=20)\n",
    "fig.supxlabel(r\"Standard Deviation of $\\gamma$ ($\\gamma_{\\sigma}$)\", size=16)\n",
    "\n",
    "plt.tight_layout()\n",
    "plt.savefig(\"../static/synthetic_coef.png\")\n",
    "plt.show()"
   ]
  }
 ],
 "metadata": {
  "environment": {
   "name": "common-cpu.m65",
   "type": "gcloud",
   "uri": "gcr.io/deeplearning-platform-release/base-cpu:m65"
  },
  "kernelspec": {
   "display_name": "Python 3",
   "language": "python",
   "name": "python3"
  },
  "language_info": {
   "codemirror_mode": {
    "name": "ipython",
    "version": 3
   },
   "file_extension": ".py",
   "mimetype": "text/x-python",
   "name": "python",
   "nbconvert_exporter": "python",
   "pygments_lexer": "ipython3",
   "version": "3.7.10"
  }
 },
 "nbformat": 4,
 "nbformat_minor": 5
}
